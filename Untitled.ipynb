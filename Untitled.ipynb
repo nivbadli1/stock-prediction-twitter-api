{
 "cells": [
  {
   "cell_type": "code",
   "execution_count": null,
   "id": "d67b8004",
   "metadata": {},
   "outputs": [],
   "source": [
    "from __future__ import print_function\n",
    "\n",
    "import datetime\n",
    "import os.path\n",
    "\n",
    "from google.auth.transport.requests import Request\n",
    "from google.oauth2.credentials import Credentials\n",
    "from google_auth_oauthlib.flow import InstalledAppFlow\n",
    "from googleapiclient.discovery import build\n",
    "from googleapiclient.errors import HttpError\n",
    "\n",
    "# If modifying these scopes, delete the file token.json.\n",
    "SCOPES = ['https://www.googleapis.com/auth/calendar']\n",
    "\n"
   ]
  },
  {
   "cell_type": "code",
   "execution_count": 7,
   "id": "3e675694",
   "metadata": {},
   "outputs": [],
   "source": [
    "from apoor import fdir"
   ]
  },
  {
   "cell_type": "code",
   "execution_count": 13,
   "id": "a27f585a",
   "metadata": {},
   "outputs": [
    {
     "name": "stdout",
     "output_type": "stream",
     "text": [
      "Please visit this URL to authorize this application: https://accounts.google.com/o/oauth2/auth?response_type=code&client_id=766924302824-iu5e6ff01ja1j5tebmki65gtc1rvopcg.apps.googleusercontent.com&redirect_uri=http%3A%2F%2Flocalhost%3A8080%2F&scope=https%3A%2F%2Fwww.googleapis.com%2Fauth%2Fcalendar&state=p5nQ1IrT9JbemCoJMo0A28olc110Cc&access_type=offline\n"
     ]
    }
   ],
   "source": [
    "from gcsa.google_calendar import GoogleCalendar\n",
    "from beautiful_date import Apr, hours\n",
    "from gcsa.event import Event\n",
    "\n",
    "gc = GoogleCalendar(save_token=False,credentials_path='./credentials.json')\n"
   ]
  },
  {
   "cell_type": "code",
   "execution_count": 15,
   "id": "c78374c1",
   "metadata": {},
   "outputs": [
    {
     "data": {
      "text/plain": [
       "['add_event',\n",
       " 'add_quick_event',\n",
       " 'calendar',\n",
       " 'clear',\n",
       " 'credentials',\n",
       " 'delete_event',\n",
       " 'get_event',\n",
       " 'get_events',\n",
       " 'get_instances',\n",
       " 'import_event',\n",
       " 'list_event_colors',\n",
       " 'move_event',\n",
       " 'service',\n",
       " 'update_event']"
      ]
     },
     "execution_count": 15,
     "metadata": {},
     "output_type": "execute_result"
    }
   ],
   "source": [
    "fdir(gc)"
   ]
  },
  {
   "cell_type": "code",
   "execution_count": null,
   "id": "31595027",
   "metadata": {},
   "outputs": [],
   "source": [
    "class TeimEvent(Event):\n",
    "    \n",
    "        "
   ]
  },
  {
   "cell_type": "code",
   "execution_count": 23,
   "id": "1627cc37",
   "metadata": {},
   "outputs": [
    {
     "ename": "TypeError",
     "evalue": "Event.__init__() missing 2 required positional arguments: 'summary' and 'start'",
     "output_type": "error",
     "traceback": [
      "\u001b[1;31m---------------------------------------------------------------------------\u001b[0m",
      "\u001b[1;31mTypeError\u001b[0m                                 Traceback (most recent call last)",
      "Input \u001b[1;32mIn [23]\u001b[0m, in \u001b[0;36m<cell line: 1>\u001b[1;34m()\u001b[0m\n\u001b[1;32m----> 1\u001b[0m event \u001b[38;5;241m=\u001b[39m \u001b[43mEvent\u001b[49m\u001b[43m(\u001b[49m\u001b[43m)\u001b[49m\n",
      "\u001b[1;31mTypeError\u001b[0m: Event.__init__() missing 2 required positional arguments: 'summary' and 'start'"
     ]
    }
   ],
   "source": [
    "event = Event()"
   ]
  },
  {
   "cell_type": "code",
   "execution_count": 19,
   "id": "a14aa444",
   "metadata": {},
   "outputs": [],
   "source": [
    "import inspect"
   ]
  }
 ],
 "metadata": {
  "kernelspec": {
   "display_name": "Python 3 (ipykernel)",
   "language": "python",
   "name": "python3"
  },
  "language_info": {
   "codemirror_mode": {
    "name": "ipython",
    "version": 3
   },
   "file_extension": ".py",
   "mimetype": "text/x-python",
   "name": "python",
   "nbconvert_exporter": "python",
   "pygments_lexer": "ipython3",
   "version": "3.10.5"
  }
 },
 "nbformat": 4,
 "nbformat_minor": 5
}
