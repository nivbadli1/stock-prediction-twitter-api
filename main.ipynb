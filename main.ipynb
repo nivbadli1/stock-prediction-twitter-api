{
 "cells": [
  {
   "cell_type": "code",
   "execution_count": 4,
   "id": "e485e1cf",
   "metadata": {},
   "outputs": [
    {
     "ename": "KeyboardInterrupt",
     "evalue": "",
     "output_type": "error",
     "traceback": [
      "\u001b[1;31m---------------------------------------------------------------------------\u001b[0m",
      "\u001b[1;31mKeyboardInterrupt\u001b[0m                         Traceback (most recent call last)",
      "Input \u001b[1;32mIn [4]\u001b[0m, in \u001b[0;36m<cell line: 12>\u001b[1;34m()\u001b[0m\n\u001b[0;32m     10\u001b[0m \u001b[38;5;28;01mfrom\u001b[39;00m \u001b[38;5;21;01mtorch\u001b[39;00m \u001b[38;5;28;01mimport\u001b[39;00m nn\n\u001b[0;32m     11\u001b[0m \u001b[38;5;28;01mimport\u001b[39;00m \u001b[38;5;21;01mtime\u001b[39;00m\n\u001b[1;32m---> 12\u001b[0m \u001b[38;5;28;01mfrom\u001b[39;00m \u001b[38;5;21;01mtransformers\u001b[39;00m \u001b[38;5;28;01mimport\u001b[39;00m BertModel, AdamW\n\u001b[0;32m     14\u001b[0m \u001b[38;5;28;01mclass\u001b[39;00m \u001b[38;5;21;01mSentimentClassifier\u001b[39;00m(nn\u001b[38;5;241m.\u001b[39mModule):\n\u001b[0;32m     16\u001b[0m   \u001b[38;5;28;01mdef\u001b[39;00m \u001b[38;5;21m__init__\u001b[39m(\u001b[38;5;28mself\u001b[39m, n_classes):\n",
      "File \u001b[1;32mC:\\Program Files\\lib\\site-packages\\transformers\\__init__.py:30\u001b[0m, in \u001b[0;36m<module>\u001b[1;34m\u001b[0m\n\u001b[0;32m     27\u001b[0m \u001b[38;5;28;01mfrom\u001b[39;00m \u001b[38;5;21;01mtyping\u001b[39;00m \u001b[38;5;28;01mimport\u001b[39;00m TYPE_CHECKING\n\u001b[0;32m     29\u001b[0m \u001b[38;5;66;03m# Check the dependencies satisfy the minimal versions required.\u001b[39;00m\n\u001b[1;32m---> 30\u001b[0m \u001b[38;5;28;01mfrom\u001b[39;00m \u001b[38;5;21;01m.\u001b[39;00m \u001b[38;5;28;01mimport\u001b[39;00m dependency_versions_check\n\u001b[0;32m     31\u001b[0m \u001b[38;5;28;01mfrom\u001b[39;00m \u001b[38;5;21;01m.\u001b[39;00m\u001b[38;5;21;01mutils\u001b[39;00m \u001b[38;5;28;01mimport\u001b[39;00m (\n\u001b[0;32m     32\u001b[0m     OptionalDependencyNotAvailable,\n\u001b[0;32m     33\u001b[0m     _LazyModule,\n\u001b[1;32m   (...)\u001b[0m\n\u001b[0;32m     44\u001b[0m     logging,\n\u001b[0;32m     45\u001b[0m )\n\u001b[0;32m     48\u001b[0m logger \u001b[38;5;241m=\u001b[39m logging\u001b[38;5;241m.\u001b[39mget_logger(\u001b[38;5;18m__name__\u001b[39m)  \u001b[38;5;66;03m# pylint: disable=invalid-name\u001b[39;00m\n",
      "File \u001b[1;32mC:\\Program Files\\lib\\site-packages\\transformers\\dependency_versions_check.py:17\u001b[0m, in \u001b[0;36m<module>\u001b[1;34m\u001b[0m\n\u001b[0;32m     14\u001b[0m \u001b[38;5;28;01mimport\u001b[39;00m \u001b[38;5;21;01msys\u001b[39;00m\n\u001b[0;32m     16\u001b[0m \u001b[38;5;28;01mfrom\u001b[39;00m \u001b[38;5;21;01m.\u001b[39;00m\u001b[38;5;21;01mdependency_versions_table\u001b[39;00m \u001b[38;5;28;01mimport\u001b[39;00m deps\n\u001b[1;32m---> 17\u001b[0m \u001b[38;5;28;01mfrom\u001b[39;00m \u001b[38;5;21;01m.\u001b[39;00m\u001b[38;5;21;01mutils\u001b[39;00m\u001b[38;5;21;01m.\u001b[39;00m\u001b[38;5;21;01mversions\u001b[39;00m \u001b[38;5;28;01mimport\u001b[39;00m require_version, require_version_core\n\u001b[0;32m     20\u001b[0m \u001b[38;5;66;03m# define which module versions we always want to check at run time\u001b[39;00m\n\u001b[0;32m     21\u001b[0m \u001b[38;5;66;03m# (usually the ones defined in `install_requires` in setup.py)\u001b[39;00m\n\u001b[0;32m     22\u001b[0m \u001b[38;5;66;03m#\u001b[39;00m\n\u001b[0;32m     23\u001b[0m \u001b[38;5;66;03m# order specific notes:\u001b[39;00m\n\u001b[0;32m     24\u001b[0m \u001b[38;5;66;03m# - tqdm must be checked before tokenizers\u001b[39;00m\n\u001b[0;32m     26\u001b[0m pkgs_to_check_at_runtime \u001b[38;5;241m=\u001b[39m \u001b[38;5;124m\"\u001b[39m\u001b[38;5;124mpython tqdm regex requests packaging filelock numpy tokenizers\u001b[39m\u001b[38;5;124m\"\u001b[39m\u001b[38;5;241m.\u001b[39msplit()\n",
      "File \u001b[1;32mC:\\Program Files\\lib\\site-packages\\transformers\\utils\\__init__.py:46\u001b[0m, in \u001b[0;36m<module>\u001b[1;34m\u001b[0m\n\u001b[0;32m     25\u001b[0m \u001b[38;5;28;01mfrom\u001b[39;00m \u001b[38;5;21;01m.\u001b[39;00m\u001b[38;5;21;01mdoc\u001b[39;00m \u001b[38;5;28;01mimport\u001b[39;00m (\n\u001b[0;32m     26\u001b[0m     add_code_sample_docstrings,\n\u001b[0;32m     27\u001b[0m     add_end_docstrings,\n\u001b[1;32m   (...)\u001b[0m\n\u001b[0;32m     31\u001b[0m     replace_return_docstrings,\n\u001b[0;32m     32\u001b[0m )\n\u001b[0;32m     33\u001b[0m \u001b[38;5;28;01mfrom\u001b[39;00m \u001b[38;5;21;01m.\u001b[39;00m\u001b[38;5;21;01mgeneric\u001b[39;00m \u001b[38;5;28;01mimport\u001b[39;00m (\n\u001b[0;32m     34\u001b[0m     ContextManagers,\n\u001b[0;32m     35\u001b[0m     ExplicitEnum,\n\u001b[1;32m   (...)\u001b[0m\n\u001b[0;32m     44\u001b[0m     to_py_obj,\n\u001b[0;32m     45\u001b[0m )\n\u001b[1;32m---> 46\u001b[0m \u001b[38;5;28;01mfrom\u001b[39;00m \u001b[38;5;21;01m.\u001b[39;00m\u001b[38;5;21;01mhub\u001b[39;00m \u001b[38;5;28;01mimport\u001b[39;00m (\n\u001b[0;32m     47\u001b[0m     CLOUDFRONT_DISTRIB_PREFIX,\n\u001b[0;32m     48\u001b[0m     DISABLE_TELEMETRY,\n\u001b[0;32m     49\u001b[0m     HF_MODULES_CACHE,\n\u001b[0;32m     50\u001b[0m     HUGGINGFACE_CO_PREFIX,\n\u001b[0;32m     51\u001b[0m     HUGGINGFACE_CO_RESOLVE_ENDPOINT,\n\u001b[0;32m     52\u001b[0m     PYTORCH_PRETRAINED_BERT_CACHE,\n\u001b[0;32m     53\u001b[0m     PYTORCH_TRANSFORMERS_CACHE,\n\u001b[0;32m     54\u001b[0m     S3_BUCKET_PREFIX,\n\u001b[0;32m     55\u001b[0m     TRANSFORMERS_CACHE,\n\u001b[0;32m     56\u001b[0m     TRANSFORMERS_DYNAMIC_MODULE_NAME,\n\u001b[0;32m     57\u001b[0m     EntryNotFoundError,\n\u001b[0;32m     58\u001b[0m     PushToHubMixin,\n\u001b[0;32m     59\u001b[0m     RepositoryNotFoundError,\n\u001b[0;32m     60\u001b[0m     RevisionNotFoundError,\n\u001b[0;32m     61\u001b[0m     cached_path,\n\u001b[0;32m     62\u001b[0m     default_cache_path,\n\u001b[0;32m     63\u001b[0m     define_sagemaker_information,\n\u001b[0;32m     64\u001b[0m     filename_to_url,\n\u001b[0;32m     65\u001b[0m     get_cached_models,\n\u001b[0;32m     66\u001b[0m     get_file_from_repo,\n\u001b[0;32m     67\u001b[0m     get_from_cache,\n\u001b[0;32m     68\u001b[0m     get_full_repo_name,\n\u001b[0;32m     69\u001b[0m     get_list_of_files,\n\u001b[0;32m     70\u001b[0m     has_file,\n\u001b[0;32m     71\u001b[0m     hf_bucket_url,\n\u001b[0;32m     72\u001b[0m     http_get,\n\u001b[0;32m     73\u001b[0m     http_user_agent,\n\u001b[0;32m     74\u001b[0m     is_local_clone,\n\u001b[0;32m     75\u001b[0m     is_offline_mode,\n\u001b[0;32m     76\u001b[0m     is_remote_url,\n\u001b[0;32m     77\u001b[0m     send_example_telemetry,\n\u001b[0;32m     78\u001b[0m     url_to_filename,\n\u001b[0;32m     79\u001b[0m )\n\u001b[0;32m     80\u001b[0m \u001b[38;5;28;01mfrom\u001b[39;00m \u001b[38;5;21;01m.\u001b[39;00m\u001b[38;5;21;01mimport_utils\u001b[39;00m \u001b[38;5;28;01mimport\u001b[39;00m (\n\u001b[0;32m     81\u001b[0m     ENV_VARS_TRUE_AND_AUTO_VALUES,\n\u001b[0;32m     82\u001b[0m     ENV_VARS_TRUE_VALUES,\n\u001b[1;32m   (...)\u001b[0m\n\u001b[0;32m    147\u001b[0m     torch_version,\n\u001b[0;32m    148\u001b[0m )\n\u001b[0;32m    151\u001b[0m WEIGHTS_NAME \u001b[38;5;241m=\u001b[39m \u001b[38;5;124m\"\u001b[39m\u001b[38;5;124mpytorch_model.bin\u001b[39m\u001b[38;5;124m\"\u001b[39m\n",
      "File \u001b[1;32mC:\\Program Files\\lib\\site-packages\\transformers\\utils\\hub.py:39\u001b[0m, in \u001b[0;36m<module>\u001b[1;34m\u001b[0m\n\u001b[0;32m     37\u001b[0m \u001b[38;5;28;01mimport\u001b[39;00m \u001b[38;5;21;01mrequests\u001b[39;00m\n\u001b[0;32m     38\u001b[0m \u001b[38;5;28;01mfrom\u001b[39;00m \u001b[38;5;21;01mfilelock\u001b[39;00m \u001b[38;5;28;01mimport\u001b[39;00m FileLock\n\u001b[1;32m---> 39\u001b[0m \u001b[38;5;28;01mfrom\u001b[39;00m \u001b[38;5;21;01mhuggingface_hub\u001b[39;00m \u001b[38;5;28;01mimport\u001b[39;00m HfFolder, Repository, create_repo, list_repo_files, whoami\n\u001b[0;32m     40\u001b[0m \u001b[38;5;28;01mfrom\u001b[39;00m \u001b[38;5;21;01mrequests\u001b[39;00m\u001b[38;5;21;01m.\u001b[39;00m\u001b[38;5;21;01mexceptions\u001b[39;00m \u001b[38;5;28;01mimport\u001b[39;00m HTTPError\n\u001b[0;32m     41\u001b[0m \u001b[38;5;28;01mfrom\u001b[39;00m \u001b[38;5;21;01mrequests\u001b[39;00m\u001b[38;5;21;01m.\u001b[39;00m\u001b[38;5;21;01mmodels\u001b[39;00m \u001b[38;5;28;01mimport\u001b[39;00m Response\n",
      "File \u001b[1;32m<frozen importlib._bootstrap>:1075\u001b[0m, in \u001b[0;36m_handle_fromlist\u001b[1;34m(module, fromlist, import_, recursive)\u001b[0m\n",
      "File \u001b[1;32mC:\\Program Files\\lib\\site-packages\\huggingface_hub\\__init__.py:93\u001b[0m, in \u001b[0;36m_attach.<locals>.__getattr__\u001b[1;34m(name)\u001b[0m\n\u001b[0;32m     91\u001b[0m \u001b[38;5;28;01melif\u001b[39;00m name \u001b[38;5;129;01min\u001b[39;00m attr_to_modules:\n\u001b[0;32m     92\u001b[0m     submod_path \u001b[38;5;241m=\u001b[39m \u001b[38;5;124mf\u001b[39m\u001b[38;5;124m\"\u001b[39m\u001b[38;5;132;01m{\u001b[39;00mpackage_name\u001b[38;5;132;01m}\u001b[39;00m\u001b[38;5;124m.\u001b[39m\u001b[38;5;132;01m{\u001b[39;00mattr_to_modules[name]\u001b[38;5;132;01m}\u001b[39;00m\u001b[38;5;124m\"\u001b[39m\n\u001b[1;32m---> 93\u001b[0m     submod \u001b[38;5;241m=\u001b[39m \u001b[43mimportlib\u001b[49m\u001b[38;5;241;43m.\u001b[39;49m\u001b[43mimport_module\u001b[49m\u001b[43m(\u001b[49m\u001b[43msubmod_path\u001b[49m\u001b[43m)\u001b[49m\n\u001b[0;32m     94\u001b[0m     attr \u001b[38;5;241m=\u001b[39m \u001b[38;5;28mgetattr\u001b[39m(submod, name)\n\u001b[0;32m     96\u001b[0m     \u001b[38;5;66;03m# If the attribute lives in a file (module) with the same\u001b[39;00m\n\u001b[0;32m     97\u001b[0m     \u001b[38;5;66;03m# name as the attribute, ensure that the attribute and *not*\u001b[39;00m\n\u001b[0;32m     98\u001b[0m     \u001b[38;5;66;03m# the module is accessible on the package.\u001b[39;00m\n",
      "File \u001b[1;32mC:\\Program Files\\lib\\importlib\\__init__.py:126\u001b[0m, in \u001b[0;36mimport_module\u001b[1;34m(name, package)\u001b[0m\n\u001b[0;32m    124\u001b[0m             \u001b[38;5;28;01mbreak\u001b[39;00m\n\u001b[0;32m    125\u001b[0m         level \u001b[38;5;241m+\u001b[39m\u001b[38;5;241m=\u001b[39m \u001b[38;5;241m1\u001b[39m\n\u001b[1;32m--> 126\u001b[0m \u001b[38;5;28;01mreturn\u001b[39;00m \u001b[43m_bootstrap\u001b[49m\u001b[38;5;241;43m.\u001b[39;49m\u001b[43m_gcd_import\u001b[49m\u001b[43m(\u001b[49m\u001b[43mname\u001b[49m\u001b[43m[\u001b[49m\u001b[43mlevel\u001b[49m\u001b[43m:\u001b[49m\u001b[43m]\u001b[49m\u001b[43m,\u001b[49m\u001b[43m \u001b[49m\u001b[43mpackage\u001b[49m\u001b[43m,\u001b[49m\u001b[43m \u001b[49m\u001b[43mlevel\u001b[49m\u001b[43m)\u001b[49m\n",
      "File \u001b[1;32mC:\\Program Files\\lib\\site-packages\\huggingface_hub\\hf_api.py:27\u001b[0m, in \u001b[0;36m<module>\u001b[1;34m\u001b[0m\n\u001b[0;32m     24\u001b[0m \u001b[38;5;28;01mimport\u001b[39;00m \u001b[38;5;21;01mrequests\u001b[39;00m\n\u001b[0;32m     25\u001b[0m \u001b[38;5;28;01mfrom\u001b[39;00m \u001b[38;5;21;01mrequests\u001b[39;00m\u001b[38;5;21;01m.\u001b[39;00m\u001b[38;5;21;01mexceptions\u001b[39;00m \u001b[38;5;28;01mimport\u001b[39;00m HTTPError\n\u001b[1;32m---> 27\u001b[0m \u001b[38;5;28;01mfrom\u001b[39;00m \u001b[38;5;21;01m.\u001b[39;00m\u001b[38;5;21;01m_commit_api\u001b[39;00m \u001b[38;5;28;01mimport\u001b[39;00m (\n\u001b[0;32m     28\u001b[0m     CommitOperation,\n\u001b[0;32m     29\u001b[0m     CommitOperationAdd,\n\u001b[0;32m     30\u001b[0m     CommitOperationDelete,\n\u001b[0;32m     31\u001b[0m     fetch_upload_modes,\n\u001b[0;32m     32\u001b[0m     prepare_commit_payload,\n\u001b[0;32m     33\u001b[0m     upload_lfs_files,\n\u001b[0;32m     34\u001b[0m )\n\u001b[0;32m     35\u001b[0m \u001b[38;5;28;01mfrom\u001b[39;00m \u001b[38;5;21;01m.\u001b[39;00m\u001b[38;5;21;01mconstants\u001b[39;00m \u001b[38;5;28;01mimport\u001b[39;00m (\n\u001b[0;32m     36\u001b[0m     DEFAULT_REVISION,\n\u001b[0;32m     37\u001b[0m     ENDPOINT,\n\u001b[1;32m   (...)\u001b[0m\n\u001b[0;32m     42\u001b[0m     SPACES_SDK_TYPES,\n\u001b[0;32m     43\u001b[0m )\n\u001b[0;32m     44\u001b[0m \u001b[38;5;28;01mfrom\u001b[39;00m \u001b[38;5;21;01m.\u001b[39;00m\u001b[38;5;21;01mutils\u001b[39;00m \u001b[38;5;28;01mimport\u001b[39;00m logging\n",
      "File \u001b[1;32mC:\\Program Files\\lib\\site-packages\\huggingface_hub\\_commit_api.py:24\u001b[0m, in \u001b[0;36m<module>\u001b[1;34m\u001b[0m\n\u001b[0;32m     21\u001b[0m \u001b[38;5;28;01mimport\u001b[39;00m \u001b[38;5;21;01mrequests\u001b[39;00m\n\u001b[0;32m     23\u001b[0m \u001b[38;5;28;01mfrom\u001b[39;00m \u001b[38;5;21;01m.\u001b[39;00m\u001b[38;5;21;01mconstants\u001b[39;00m \u001b[38;5;28;01mimport\u001b[39;00m ENDPOINT\n\u001b[1;32m---> 24\u001b[0m \u001b[38;5;28;01mfrom\u001b[39;00m \u001b[38;5;21;01m.\u001b[39;00m\u001b[38;5;21;01mlfs\u001b[39;00m \u001b[38;5;28;01mimport\u001b[39;00m UploadInfo, _validate_batch_actions, lfs_upload, post_lfs_batch_info\n\u001b[0;32m     25\u001b[0m \u001b[38;5;28;01mfrom\u001b[39;00m \u001b[38;5;21;01m.\u001b[39;00m\u001b[38;5;21;01mutils\u001b[39;00m \u001b[38;5;28;01mimport\u001b[39;00m logging\n\u001b[0;32m     28\u001b[0m logger \u001b[38;5;241m=\u001b[39m logging\u001b[38;5;241m.\u001b[39mget_logger(\u001b[38;5;18m__name__\u001b[39m)\n",
      "File \u001b[1;32mC:\\Program Files\\lib\\site-packages\\huggingface_hub\\lfs.py:32\u001b[0m, in \u001b[0;36m<module>\u001b[1;34m\u001b[0m\n\u001b[0;32m     29\u001b[0m \u001b[38;5;28;01mfrom\u001b[39;00m \u001b[38;5;21;01mhuggingface_hub\u001b[39;00m\u001b[38;5;21;01m.\u001b[39;00m\u001b[38;5;21;01mconstants\u001b[39;00m \u001b[38;5;28;01mimport\u001b[39;00m ENDPOINT, REPO_TYPES_URL_PREFIXES\n\u001b[0;32m     30\u001b[0m \u001b[38;5;28;01mfrom\u001b[39;00m \u001b[38;5;21;01mrequests\u001b[39;00m\u001b[38;5;21;01m.\u001b[39;00m\u001b[38;5;21;01mauth\u001b[39;00m \u001b[38;5;28;01mimport\u001b[39;00m HTTPBasicAuth\n\u001b[1;32m---> 32\u001b[0m \u001b[38;5;28;01mfrom\u001b[39;00m \u001b[38;5;21;01m.\u001b[39;00m\u001b[38;5;21;01mutils\u001b[39;00m\u001b[38;5;21;01m.\u001b[39;00m\u001b[38;5;21;01msha\u001b[39;00m \u001b[38;5;28;01mimport\u001b[39;00m sha256, sha_fileobj\n\u001b[0;32m     35\u001b[0m OID_REGEX \u001b[38;5;241m=\u001b[39m re\u001b[38;5;241m.\u001b[39mcompile(\u001b[38;5;124mr\u001b[39m\u001b[38;5;124m\"\u001b[39m\u001b[38;5;124m^[0-9a-f]\u001b[39m\u001b[38;5;132;01m{40}\u001b[39;00m\u001b[38;5;124m$\u001b[39m\u001b[38;5;124m\"\u001b[39m)\n\u001b[0;32m     37\u001b[0m LFS_MULTIPART_UPLOAD_COMMAND \u001b[38;5;241m=\u001b[39m \u001b[38;5;124m\"\u001b[39m\u001b[38;5;124mlfs-multipart-upload\u001b[39m\u001b[38;5;124m\"\u001b[39m\n",
      "File \u001b[1;32mC:\\Program Files\\lib\\site-packages\\huggingface_hub\\utils\\__init__.py:18\u001b[0m, in \u001b[0;36m<module>\u001b[1;34m\u001b[0m\n\u001b[0;32m      1\u001b[0m \u001b[38;5;66;03m# flake8: noqa\u001b[39;00m\n\u001b[0;32m      2\u001b[0m \u001b[38;5;66;03m#!/usr/bin/env python\u001b[39;00m\n\u001b[0;32m      3\u001b[0m \u001b[38;5;66;03m# coding=utf-8\u001b[39;00m\n\u001b[1;32m   (...)\u001b[0m\n\u001b[0;32m     15\u001b[0m \u001b[38;5;66;03m# See the License for the specific language governing permissions and\u001b[39;00m\n\u001b[0;32m     16\u001b[0m \u001b[38;5;66;03m# limitations under the License\u001b[39;00m\n\u001b[1;32m---> 18\u001b[0m \u001b[38;5;28;01mfrom\u001b[39;00m \u001b[38;5;21;01m.\u001b[39;00m\u001b[38;5;21;01m_errors\u001b[39;00m \u001b[38;5;28;01mimport\u001b[39;00m EntryNotFoundError, RepositoryNotFoundError, RevisionNotFoundError\n\u001b[0;32m     19\u001b[0m \u001b[38;5;28;01mfrom\u001b[39;00m \u001b[38;5;21;01m.\u001b[39;00m\u001b[38;5;21;01m_subprocess\u001b[39;00m \u001b[38;5;28;01mimport\u001b[39;00m run_subprocess\n",
      "File \u001b[1;32m<frozen importlib._bootstrap>:1027\u001b[0m, in \u001b[0;36m_find_and_load\u001b[1;34m(name, import_)\u001b[0m\n",
      "File \u001b[1;32m<frozen importlib._bootstrap>:1006\u001b[0m, in \u001b[0;36m_find_and_load_unlocked\u001b[1;34m(name, import_)\u001b[0m\n",
      "File \u001b[1;32m<frozen importlib._bootstrap>:688\u001b[0m, in \u001b[0;36m_load_unlocked\u001b[1;34m(spec)\u001b[0m\n",
      "File \u001b[1;32m<frozen importlib._bootstrap_external>:879\u001b[0m, in \u001b[0;36mexec_module\u001b[1;34m(self, module)\u001b[0m\n",
      "File \u001b[1;32m<frozen importlib._bootstrap_external>:975\u001b[0m, in \u001b[0;36mget_code\u001b[1;34m(self, fullname)\u001b[0m\n",
      "File \u001b[1;32m<frozen importlib._bootstrap_external>:1074\u001b[0m, in \u001b[0;36mget_data\u001b[1;34m(self, path)\u001b[0m\n",
      "\u001b[1;31mKeyboardInterrupt\u001b[0m: "
     ]
    }
   ],
   "source": [
    "import altair as alt\n",
    "import streamlit as st\n",
    "import twitter_api\n",
    "# import predict_live_tweets\n",
    "# import trading_algorithm\n",
    "# import time_series_plot\n",
    "import numpy as np\n",
    "import pandas as pd\n",
    "import torch\n",
    "from torch import nn\n",
    "import time\n",
    "from transformers import BertModel, AdamW\n",
    "\n",
    "class SentimentClassifier(nn.Module):\n",
    "\n",
    "  def __init__(self, n_classes):\n",
    "    super(SentimentClassifier, self).__init__()\n",
    "    self.bert = BertModel.from_pretrained('bert-base-cased', return_dict=False)\n",
    "    self.dropout = nn.Dropout(p=0.3)\n",
    "    self.out = nn.Linear(self.bert.config.hidden_size, n_classes)\n",
    "\n",
    "  def forward(self, input_ids, attention_mask):\n",
    "    _, output = self.bert(input_ids=input_ids, attention_mask=attention_mask)\n",
    "    output = self.dropout(output)\n",
    "    return self.out(output)"
   ]
  },
  {
   "cell_type": "code",
   "execution_count": 5,
   "id": "efb41ebb",
   "metadata": {},
   "outputs": [],
   "source": [
    "# sp500_stocks = [\"$A\", \"$AAL\", \"$AAP\", \"$AAPL\", \"$ABBV\", \"$ABC\", \"$ABMD\", \"$ABT\", \"$ACN\", \"$ADBE\", \"$ADI\", \"$ADM\", \"$ADP\", \"$ADSK\", \"$AEE\", \"$AEP\", \"$AES\", \"$AFL\", \"$AIG\", \"$AIZ\", \"$AJG\", \"$AKAM\", \"$ALB\", \"$ALGN\", \"$ALK\", \"$ALL\", \"$ALLE\", \"$AMAT\", \"$AMCR\", \"$AMD\", \"$AME\", \"$AMGN\", \"$AMP\", \"$AMT\", \"$AMZN\", \"$ANET\", \"$ANSS\", \"$ANTM\", \"$AON\", \"$AOS\", \"$APA\", \"$APD\", \"$APH\", \"$APTV\", \"$ARE\", \"$ATO\", \"$ATVI\", \"$AVB\", \"$AVGO\", \"$AVY\", \"$AWK\", \"$AXP\", \"$AZO\", \"$BA\", \"$BAC\", \"$BAX\", \"$BBWI\", \"$BBY\", \"$BDX\", \"$BEN\", \"$BF.B\", \"$BIIB\", \"$BIO\", \"$BK\", \"$BKNG\", \"$BKR\", \"$BLK\", \"$BLL\", \"$BMY\", \"$BR\", \"$BRK.B\", \"$BRO\", \"$BSX\", \"$BWA\", \"$BXP\", \"$C\", \"$CAG\", \"$CAH\", \"$CARR\", \"$CAT\", \"$CB\", \"$CBOE\", \"$CBRE\", \"$CCI\", \"$CCL\", \"$CDAY\", \"$CDNS\", \"$CDW\", \"$CE\", \"$CEG\", \"$CERN\", \"$CF\", \"$CFG\", \"$CHD\", \"$CHRW\", \"$CHTR\", \"$CI\", \"$CINF\", \"$CL\", \"$CLX\", \"$CMA\", \"$CMCSA\", \"$CME\", \"$CMG\", \"$CMI\", \"$CMS\", \"$CNC\", \"$CNP\", \"$COF\", \"$COO\", \"$COP\", \"$COST\", \"$CPB\", \"$CPRT\", \"$CPT\", \"$CRL\", \"$CRM\", \"$CSCO\", \"$CSX\", \"$CTAS\", \"$CTLT\", \"$CTRA\", \"$CTSH\", \"$CTVA\", \"$CTXS\", \"$CVS\", \"$CVX\", \"$CZR\", \"$D\", \"$DAL\", \"$DD\", \"$DE\", \"$DFS\", \"$DG\", \"$DGX\", \"$DHI\", \"$DHR\", \"$DIS\", \"$DISH\", \"$DLR\", \"$DLTR\", \"$DOV\", \"$DOW\", \"$DPZ\", \"$DRE\", \"$DRI\", \"$DTE\", \"$DUK\", \"$DVA\", \"$DVN\", \"$DXC\", \"$DXCM\", \"$EA\", \"$EBAY\", \"$ECL\", \"$ED\", \"$EFX\", \"$EIX\", \"$EL\", \"$EMN\", \"$EMR\", \"$ENPH\", \"$EOG\", \"$EPAM\", \"$EQIX\", \"$EQR\", \"$ES\", \"$ESS\", \"$ETN\", \"$ETR\", \"$ETSY\", \"$EVRG\", \"$EW\", \"$EXC\", \"$EXPD\", \"$EXPE\", \"$EXR\", \"$F\", \"$FANG\", \"$FAST\", \"$FB\", \"$FBHS\", \"$FCX\", \"$FDS\", \"$FDX\", \"$FE\", \"$FFIV\", \"$FIS\", \"$FISV\", \"$FITB\", \"$FLT\", \"$FMC\", \"$FOX\", \"$FOXA\", \"$FRC\", \"$FRT\", \"$FTNT\", \"$FTV\", \"$GD\", \"$GE\", \"$GILD\", \"$GIS\", \"$GL\", \"$GLW\", \"$GM\", \"$GNRC\", \"$GOOG\", \"$GOOGL\", \"$GPC\", \"$GPN\", \"$GRMN\", \"$GS\", \"$GWW\", \"$HAL\", \"$HAS\", \"$HBAN\", \"$HCA\", \"$HD\", \"$HES\", \"$HIG\", \"$HII\", \"$HLT\", \"$HOLX\", \"$HON\", \"$HPE\", \"$HPQ\", \"$HRL\", \"$HSIC\", \"$HST\", \"$HSY\", \"$HUM\", \"$HWM\", \"$IBM\", \"$ICE\", \"$IDXX\", \"$IEX\", \"$IFF\", \"$ILMN\", \"$INCY\", \"$INTC\", \"$INTU\", \"$IP\", \"$IPG\", \"$IPGP\", \"$IQV\", \"$IR\", \"$IRM\", \"$ISRG\", \"$IT\", \"$ITW\", \"$IVZ\",\n",
    "#                 \"$J\", \"$JBHT\", \"$JCI\", \"$JKHY\", \"$JNJ\", \"$JNPR\", \"$JPM\", \"$K\", \"$KEY\", \"$KEYS\", \"$KHC\", \"$KIM\", \"$KLAC\", \"$KMB\", \"$KMI\", \"$KMX\", \"$KO\", \"$KR\", \"$L\", \"$LDOS\", \"$LEN\", \"$LH\", \"$LHX\", \"$LIN\", \"$LKQ\", \"$LLY\", \"$LMT\", \"$LNC\", \"$LNT\", \"$LOW\", \"$LRCX\", \"$LUMN\", \"$LUV\", \"$LVS\", \"$LW\", \"$LYB\", \"$LYV\", \"$MA\", \"$MAA\", \"$MAR\", \"$MAS\", \"$MCD\", \"$MCHP\", \"$MCK\", \"$MCO\", \"$MDLZ\", \"$MDT\", \"$MET\", \"$MGM\", \"$MHK\", \"$MKC\", \"$MKTX\", \"$MLM\", \"$MMC\", \"$MMM\", \"$MNST\", \"$MO\", \"$MOH\", \"$MOS\", \"$MPC\", \"$MPWR\", \"$MRK\", \"$MRNA\", \"$MRO\", \"$MS\", \"$MSCI\", \"$MSFT\", \"$MSI\", \"$MTB\", \"$MTCH\", \"$MTD\", \"$MU\", \"$NCLH\", \"$NDAQ\", \"$NDSN\", \"$NEE\", \"$NEM\", \"$NFLX\", \"$NI\", \"$NKE\", \"$NLOK\", \"$NLSN\", \"$NOC\", \"$NOW\", \"$NRG\", \"$NSC\", \"$NTAP\", \"$NTRS\", \"$NUE\", \"$NVDA\", \"$NVR\", \"$NWL\", \"$NWS\", \"$NWSA\", \"$NXPI\", \"$O\", \"$ODFL\", \"$OGN\", \"$OKE\", \"$OMC\", \"$ORCL\", \"$ORLY\", \"$OTIS\", \"$OXY\", \"$PARA\", \"$PAYC\", \"$PAYX\", \"$PCAR\", \"$PEAK\", \"$PEG\", \"$PENN\", \"$PEP\", \"$PFE\", \"$PFG\", \"$PG\", \"$PGR\", \"$PH\", \"$PHM\", \"$PKG\", \"$PKI\", \"$PLD\", \"$PM\", \"$PNC\", \"$PNR\", \"$PNW\", \"$POOL\", \"$PPG\", \"$PPL\", \"$PRU\", \"$PSA\", \"$PSX\", \"$PTC\", \"$PVH\", \"$PWR\", \"$PXD\", \"$PYPL\", \"$QCOM\", \"$QRVO\", \"$RCL\", \"$RE\", \"$REG\", \"$REGN\", \"$RF\", \"$RHI\", \"$RJF\", \"$RL\", \"$RMD\", \"$ROK\", \"$ROL\", \"$ROP\", \"$ROST\", \"$RSG\", \"$RTX\", \"$SBAC\", \"$SBNY\", \"$SBUX\", \"$SCHW\", \"$SEDG\", \"$SEE\", \"$SHW\", \"$SIVB\", \"$SJM\", \"$SLB\", \"$SNA\", \"$SNPS\", \"$SO\", \"$SPG\", \"$SPGI\", \"$SRE\", \"$STE\", \"$STT\", \"$STX\", \"$STZ\", \"$SWK\", \"$SWKS\", \"$SYF\", \"$SYK\", \"$SYY\", \"$T\", \"$TAP\", \"$TDG\", \"$TDY\", \"$TECH\", \"$TEL\", \"$TER\", \"$TFC\", \"$TFX\", \"$TGT\", \"$TJX\", \"$TMO\", \"$TMUS\", \"$TPR\", \"$TRMB\", \"$TROW\", \"$TRV\", \"$TSCO\", \"$TSLA\", \"$TSN\", \"$TT\", \"$TTWO\", \"$TWTR\", \"$TXN\", \"$TXT\", \"$TYL\", \"$UA\", \"$UAA\", \"$UAL\", \"$UDR\", \"$UHS\", \"$ULTA\", \"$UNH\", \"$UNP\", \"$UPS\", \"$URI\", \"$USB\", \"$V\", \"$VFC\", \"$VLO\", \"$VMC\", \"$VNO\", \"$VRSK\", \"$VRSN\", \"$VRTX\", \"$VTR\", \"$VTRS\", \"$VZ\", \"$WAB\", \"$WAT\", \"$WBA\", \"$WBD\", \"$WDC\", \"$WEC\", \"$WELL\", \"$WFC\", \"$WHR\", \"$WM\", \"$WMB\", \"$WMT\", \"$WRB\", \"$WRK\", \"$WST\", \"$WTW\", \"$WY\", \"$WYNN\", \"$XEL\", \"$XOM\", \"$XRAY\", \"$XYL\", \"$YUM\", \"$ZBH\", \"$ZBRA\", \"$ZION\", \"$ZTS\"]\n",
    "sp500_stocks = [\"$APPL\",\"$META\"]\n",
    "class_names = ['bearish', 'bullish']\n",
    "# model = SentimentClassifier(len(class_names))\n",
    "# optimizer = AdamW(model.parameters(), lr=2e-5, correct_bias=False)\n",
    "# device = torch.device('cpu')\n",
    "# checkpoint = torch.load(\"./twitter_sentiment_model.pth\", map_location=device)\n",
    "# model.load_state_dict(checkpoint['model_state_dict'])\n",
    "# optimizer.load_state_dict(checkpoint['optimizer_state_dict'])\n",
    "# epoch = checkpoint['epoch']\n",
    "equities = []\n",
    "datetimes = []"
   ]
  },
  {
   "cell_type": "code",
   "execution_count": 6,
   "id": "67bea98b",
   "metadata": {},
   "outputs": [
    {
     "ename": "AttributeError",
     "evalue": "module 'twitter_api' has no attribute 'TwitterClient'",
     "output_type": "error",
     "traceback": [
      "\u001b[1;31m---------------------------------------------------------------------------\u001b[0m",
      "\u001b[1;31mAttributeError\u001b[0m                            Traceback (most recent call last)",
      "Input \u001b[1;32mIn [6]\u001b[0m, in \u001b[0;36m<cell line: 2>\u001b[1;34m()\u001b[0m\n\u001b[0;32m      1\u001b[0m \u001b[38;5;28;01mglobal\u001b[39;00m equities, datetimes\n\u001b[1;32m----> 2\u001b[0m twitter_client \u001b[38;5;241m=\u001b[39m \u001b[43mtwitter_api\u001b[49m\u001b[38;5;241;43m.\u001b[39;49m\u001b[43mTwitterClient\u001b[49m()\n\u001b[0;32m      3\u001b[0m tweet_preprocessor \u001b[38;5;241m=\u001b[39m twitter_api\u001b[38;5;241m.\u001b[39mTweetPreprocessor()\n\u001b[0;32m      4\u001b[0m api \u001b[38;5;241m=\u001b[39m twitter_client\u001b[38;5;241m.\u001b[39mget_twitter_client_api()\n",
      "\u001b[1;31mAttributeError\u001b[0m: module 'twitter_api' has no attribute 'TwitterClient'"
     ]
    }
   ],
   "source": [
    "\n",
    "global equities, datetimes\n",
    "twitter_client = twitter_api.TwitterClient()\n",
    "tweet_preprocessor = twitter_api.TweetPreprocessor()\n",
    "api = twitter_client.get_twitter_client_api()\n",
    "latest_id = None\n",
    "hash_tag_dict = dict.fromkeys(portfolio, None)\n",
    "placeholder = st.empty()"
   ]
  },
  {
   "cell_type": "code",
   "execution_count": 5,
   "id": "f2dce273",
   "metadata": {},
   "outputs": [
    {
     "ename": "NameError",
     "evalue": "name 'tweet_preprocessor' is not defined",
     "output_type": "error",
     "traceback": [
      "\u001b[1;31m---------------------------------------------------------------------------\u001b[0m",
      "\u001b[1;31mNameError\u001b[0m                                 Traceback (most recent call last)",
      "Input \u001b[1;32mIn [5]\u001b[0m, in \u001b[0;36m<cell line: 1>\u001b[1;34m()\u001b[0m\n\u001b[1;32m----> 1\u001b[0m \u001b[43mtweet_preprocessor\u001b[49m\n",
      "\u001b[1;31mNameError\u001b[0m: name 'tweet_preprocessor' is not defined"
     ]
    }
   ],
   "source": [
    "tweet_preprocessor"
   ]
  },
  {
   "cell_type": "code",
   "execution_count": 6,
   "id": "8c4a2198",
   "metadata": {},
   "outputs": [
    {
     "name": "stdout",
     "output_type": "stream",
     "text": [
      "0.5\n",
      "-0.25\n",
      "-0.8\n",
      "0.0\n"
     ]
    }
   ],
   "source": [
    "from textblob import TextBlob\n",
    "\n",
    "\n",
    "print(TextBlob('1: i love you').sentiment.polarity)\n",
    "print(TextBlob('2: i do not love you').sentiment.polarity)\n",
    "print(TextBlob('3: i hate you').sentiment.polarity)\n",
    "print(TextBlob('4:go away').sentiment.polarity)"
   ]
  }
 ],
 "metadata": {
  "kernelspec": {
   "display_name": "Python 3 (ipykernel)",
   "language": "python",
   "name": "python3"
  },
  "language_info": {
   "codemirror_mode": {
    "name": "ipython",
    "version": 3
   },
   "file_extension": ".py",
   "mimetype": "text/x-python",
   "name": "python",
   "nbconvert_exporter": "python",
   "pygments_lexer": "ipython3",
   "version": "3.10.5"
  }
 },
 "nbformat": 4,
 "nbformat_minor": 5
}
