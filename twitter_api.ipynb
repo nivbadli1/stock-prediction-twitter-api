{
 "cells": [
  {
   "cell_type": "code",
   "execution_count": 9,
   "id": "99b7ed88",
   "metadata": {},
   "outputs": [],
   "source": [
    "from tweepy import API\n",
    "from tweepy import Cursor\n",
    "from tweepy.streaming import Stream\n",
    "from tweepy import OAuthHandler\n",
    "from tweepy import Stream\n",
    "import numpy as np\n",
    "import pandas as pd\n",
    "import re\n",
    "import time\n",
    "import api_credentials "
   ]
  },
  {
   "cell_type": "code",
   "execution_count": 10,
   "id": "63f42f18",
   "metadata": {},
   "outputs": [],
   "source": [
    "\n",
    "class TwitterAuthenticator():\n",
    "    '''\n",
    "    Used to authenticate my Twitter Developer account for permission to use the Twitter API\n",
    "    '''\n",
    "\n",
    "    def authenticate_twitter_app(self):\n",
    "        TWITTER_ACCESS_TOKEN = api_credentials.TWITTER_ACCESS_TOKEN\n",
    "        TWITTER_ACCESS_TOKEN_SECRET = api_credentials.TWITTER_ACCESS_TOKEN_SECRET\n",
    "        TWITTER_CONSUMER_KEY = api_credentials.TWITTER_CONSUMER_KEY\n",
    "        TWITTER_CONSUMER_SECRET = api_credentials.TWITTER_CONSUMER_SECRET\n",
    "        auth = OAuthHandler(TWITTER_CONSUMER_KEY, TWITTER_CONSUMER_SECRET)\n",
    "        auth.set_access_token(TWITTER_ACCESS_TOKEN,\n",
    "                              TWITTER_ACCESS_TOKEN_SECRET)\n",
    "        return auth"
   ]
  },
  {
   "cell_type": "code",
   "execution_count": 11,
   "id": "7522959c",
   "metadata": {},
   "outputs": [],
   "source": [
    "\n",
    "class TwitterClient():\n",
    "    '''\n",
    "    A class for connecting to the Twitter API\n",
    "    '''\n",
    "\n",
    "    def __init__(self, twitter_user=None):\n",
    "        self.auth = TwitterAuthenticator().authenticate_twitter_app()\n",
    "        self.twitter_client = API(self.auth)\n",
    "        self.twitter_user = twitter_user\n",
    "\n",
    "    def get_twitter_client_api(self):\n",
    "        return self.twitter_client\n",
    "\n",
    "    def get_user_timeline_tweets(self, num_tweets):\n",
    "        tweets = []\n",
    "        for tweet in Cursor(self.twitter_client.user_timeline, id=self.twitter_user).items(num_tweets):\n",
    "            tweets.append(tweet)\n",
    "        return tweets"
   ]
  },
  {
   "cell_type": "code",
   "execution_count": 12,
   "id": "74b19694",
   "metadata": {},
   "outputs": [],
   "source": [
    "class TwitterStreamer():\n",
    "    \"\"\"\n",
    "    A class for streaming live tweets.\n",
    "    \"\"\"\n",
    "\n",
    "    def __init__(self):\n",
    "        self.auth = TwitterAuthenticator().authenticate_twitter_app()\n",
    "\n",
    "    def stream_tweets(self, hash_tag_list):\n",
    "        listener = TwitterListener()\n",
    "        stream = Stream(self.auth, listener)\n",
    "\n",
    "        # Filter Twitter streams by keywords\n",
    "        stream.filter(track=hash_tag_list)\n"
   ]
  },
  {
   "cell_type": "code",
   "execution_count": 15,
   "id": "d72b5936",
   "metadata": {},
   "outputs": [],
   "source": [
    "\n",
    "\n",
    "class TwitterListener(Stream):\n",
    "    '''\n",
    "    An exponentially increasing time-out penalty is applied to a developer's account each time Twitter's request limit is exceeded.\n",
    "    This listener will stop the program from running if it recieves an error code 420, \n",
    "    which is an indication that our program is about to exceed the tweet request limit.    \n",
    "    \n",
    "    A maximum of 450 recent search requests for tweets is allowed every 15 minutes.\n",
    "    '''\n",
    "\n",
    "    def on_error(self, status):\n",
    "        if status == 420:\n",
    "            # Return False on_data method in case rate limit occurs.\n",
    "            return False\n",
    "        print(status)\n",
    "\n",
    "\n"
   ]
  },
  {
   "cell_type": "code",
   "execution_count": 16,
   "id": "6c86b4f0",
   "metadata": {},
   "outputs": [],
   "source": [
    "class TweetPreprocessor():\n",
    "\n",
    "    def clean_tweet(self, tweet):\n",
    "        return ' '.join(re.sub(\"(@[A-Za-z0-9]+)|([^0-9A-Za-z \\t])|(\\w+:\\/\\/\\S+)\", \" \", tweet).split())\n",
    "\n",
    "    def tweets_to_data_frame(self, tweets):\n",
    "        '''\n",
    "        Returns the data frame of tweets and the latest tweet id, \n",
    "        so that the next function call will only include tweets after \n",
    "        the latest tweet id to avoid duplication.\n",
    "        Input: tweepy.models.SearchResults (a JSON data structure of tweets)\n",
    "        Outputs: a pandas data frame of recent tweets and the latest tweet id\n",
    "        '''\n",
    "        df = pd.DataFrame(data=[self.clean_tweet(tweet.text)\n",
    "                          for tweet in tweets], columns=['tweet'])\n",
    "\n",
    "        df['id'] = np.array([tweet.id for tweet in tweets])\n",
    "\n",
    "        # The lastest tweet id is conveiniently the largest number\n",
    "        latest_id = df.id.max()\n",
    "\n",
    "        # # If you want to drop retweets from data frame\n",
    "        # df = df[~df.tweet.str.contains(\"RT\")]\n",
    "\n",
    "        return df, latest_id\n"
   ]
  },
  {
   "cell_type": "code",
   "execution_count": 24,
   "id": "90a7dd03",
   "metadata": {},
   "outputs": [],
   "source": [
    "twitter_client = TwitterClient()\n",
    "tweet_preprocessor = TweetPreprocessor()\n",
    "api = twitter_client.get_twitter_client_api()\n",
    "latest_id = None\n",
    "# hash_tag_dict = dict.fromkeys(portfolio, None)\n",
    "# placeholder = st.empty()"
   ]
  },
  {
   "cell_type": "code",
   "execution_count": 27,
   "id": "a844272b",
   "metadata": {},
   "outputs": [
    {
     "name": "stderr",
     "output_type": "stream",
     "text": [
      "2022-08-10 20:45:44.291 \n",
      "  \u001b[33m\u001b[1mWarning:\u001b[0m to view this Streamlit app on a browser, run it with the following\n",
      "  command:\n",
      "\n",
      "    streamlit run C:\\Program Files\\lib\\site-packages\\ipykernel_launcher.py [ARGUMENTS]\n"
     ]
    }
   ],
   "source": [
    "import streamlit as st\n",
    "sp500_stocks = [\"$APPL\"]\n",
    "portfolio = st.multiselect('Build your portfolio', sp500_stocks)"
   ]
  }
 ],
 "metadata": {
  "kernelspec": {
   "display_name": "Python 3 (ipykernel)",
   "language": "python",
   "name": "python3"
  },
  "language_info": {
   "codemirror_mode": {
    "name": "ipython",
    "version": 3
   },
   "file_extension": ".py",
   "mimetype": "text/x-python",
   "name": "python",
   "nbconvert_exporter": "python",
   "pygments_lexer": "ipython3",
   "version": "3.10.5"
  }
 },
 "nbformat": 4,
 "nbformat_minor": 5
}
